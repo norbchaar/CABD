{
  "nbformat": 4,
  "nbformat_minor": 0,
  "metadata": {
    "colab": {
      "provenance": [],
      "authorship_tag": "ABX9TyNBbrifwNZx5WwFgXeTpr8k",
      "include_colab_link": true
    },
    "kernelspec": {
      "name": "python3",
      "display_name": "Python 3"
    },
    "language_info": {
      "name": "python"
    }
  },
  "cells": [
    {
      "cell_type": "markdown",
      "metadata": {
        "id": "view-in-github",
        "colab_type": "text"
      },
      "source": [
        "<a href=\"https://colab.research.google.com/github/norbchaar/CABD/blob/main/TP3/CABD_TP3.ipynb\" target=\"_parent\"><img src=\"https://colab.research.google.com/assets/colab-badge.svg\" alt=\"Open In Colab\"/></a>"
      ]
    },
    {
      "cell_type": "code",
      "execution_count": null,
      "metadata": {
        "collapsed": true,
        "id": "OcA_4oI6b1Jr"
      },
      "outputs": [],
      "source": [
        "# Actualizamos los repositorios\n",
        "!apt-get update -qq\n",
        "\n",
        "# Instalamos Spark para Python\n",
        "!pip install pyspark\n",
        "\n",
        "# Instalamos Java 8 (versión ligera sin GUI)\n",
        "!apt-get install -y openjdk-8-jdk-headless -qq > /dev/null\n",
        "\n",
        "# Configuramos JAVA_HOME\n",
        "import os\n",
        "os.environ[\"JAVA_HOME\"] = \"/usr/lib/jvm/java-8-openjdk-amd64\"\n",
        "\n",
        "# Seleccionamos Java 8 (si es necesario)\n",
        "!echo 2 | update-alternatives --config java\n",
        "\n",
        "# Validamos instalación de Java\n",
        "!java -version"
      ]
    },
    {
      "cell_type": "code",
      "source": [
        "from pyspark import SparkConf, SparkContext\n",
        "from pyspark.streaming import StreamingContext\n",
        "import os, time, shutil\n",
        "import threading\n",
        "\n",
        "# \"VALOR DE ANTIGUEDAD\"\n",
        "A = .5\n",
        "\n",
        "# Configuración de rutas\n",
        "root_path = '/content/'\n",
        "input_path = root_path + \"input\"  # Carpeta original con los archivos\n",
        "input_streaming = root_path + \"input_streaming\"  # Carpeta monitoreada por Spark\n",
        "buffer = root_path + \"buffer\"\n",
        "\n",
        "# Preparar carpetas\n",
        "if not os.path.exists(input_streaming):\n",
        "    os.makedirs(input_streaming)\n",
        "else:\n",
        "    for f in os.listdir(input_streaming):\n",
        "        os.remove(os.path.join(input_streaming, f))\n",
        "\n",
        "# Configuración de SparkContext y StreamingContext\n",
        "sc = SparkContext(\"local[2]\", \"CABD-TP3\")\n",
        "ssc = StreamingContext(sc, 6)  # Intervalo de microbatch de 6 segundos\n",
        "\n",
        "# Leer el stream de datos desde `input_streaming`\n",
        "stream = ssc.textFileStream(input_streaming)\n",
        "\n",
        "\n",
        "\n",
        "\n",
        "# Transformaciones: Cada línea debe ser del formato <id_user, id_mission, tiempo_juego>\n",
        "# Separar campos por tabulación\n",
        "parsed_stream = stream.map(lambda line: line.split(\"\\t\"))\n",
        "\n",
        "# Mapeamos a RDD pareado (id_mission, (tiempo_juego, ocurrencia))\n",
        "mapped_stream = parsed_stream.map(lambda fields: (int(fields[1]), (float(fields[2]), 1)))\n",
        "\n",
        "# Acumular tiempos y ocurrencias por misión\n",
        "accumulations = mapped_stream.reduceByKey(lambda a, b: (a[0] + b[0], a[1] + b[1]))\n",
        "\n",
        "# Calcular los promedios\n",
        "averages = accumulations.mapValues(lambda x: x[0] / x[1])\n",
        "\n",
        "\n",
        "\n",
        "\n",
        "# Persistencia entre ventanas\n",
        "ssc.checkpoint(buffer)\n",
        "\n",
        "# Actualización entre ventanas\n",
        "def fUpdate(newValues, scoreAnterior):\n",
        "    # Si el estado es None, inicializa en 0. Si no, aplica el descuento\n",
        "    # de antigüedad (evitando valores negativos)\n",
        "    scoreAnterior = 0 if scoreAnterior is None else max(scoreAnterior - A, 0)\n",
        "    # Suma los valores nuevos si existen\n",
        "    newValuesSum = sum(newValues) if newValues else 0\n",
        "    # Actualiza el score\n",
        "    updatedScore = scoreAnterior + newValuesSum\n",
        "    # Si el estado es 0, devuelve None para evitar guardar una clave innecesaria\n",
        "    return None if updatedScore == 0 else updatedScore\n",
        "\n",
        "newScores = averages.updateStateByKey(fUpdate)\n",
        "newScores.pprint()\n",
        "\n",
        "\n",
        "\n",
        "\n",
        "# Simulación de la llegada de archivos\n",
        "def simulate_file_arrival():\n",
        "    for file_name in sorted(os.listdir(input_path)):  # Ordena los archivos alfabéticamente\n",
        "        source = os.path.join(input_path, file_name)\n",
        "        destination = os.path.join(input_streaming, file_name)\n",
        "        shutil.copy(source, destination)  # Copiar archivo al directorio monitoreado\n",
        "        print(f\"Archivo {file_name} recibido en {input_streaming}\")\n",
        "        time.sleep(3)  # Simular llegada cada 3 segundos\n",
        "\n",
        "# Iniciar el streaming\n",
        "ssc.start()\n",
        "\n",
        "# Iniciar el hilo de simulación de llegada de archivos\n",
        "file_thread = threading.Thread(target=simulate_file_arrival)\n",
        "file_thread.start()\n",
        "\n",
        "# Ejecución contínua de Spark Streaming\n",
        "ssc.awaitTermination()\n"
      ],
      "metadata": {
        "id": "h11AjNJH3Z6G",
        "collapsed": true
      },
      "execution_count": null,
      "outputs": []
    }
  ]
}